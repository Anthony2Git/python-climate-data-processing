{
 "cells": [
  {
   "cell_type": "markdown",
   "metadata": {},
   "source": [
    "# lasted edited by Claire Valva, May 23, 2018\n",
    "\n",
    "# 1979 to 2016 300hPa at 40.5 deg data processing - Winter\n",
    "\n",
    "Will look at winter spectra (Dec/Jan/Feb)"
   ]
  },
  {
   "cell_type": "markdown",
   "metadata": {},
   "source": [
    "### file details\n",
    "will be using file: 1979-2016-300hPa-40.5N-z.nc \n",
    "which is currently located in ~/uncategorized data\n",
    "\n",
    "This file contains a single 2D array called “z”, whose dimension is (240, 55520).  The first dimension is longitude, 1.5 degree interval from 0 to 358.5 (0 is Greenwich Mean).  The second dimension is time, 6 hours apart, from 00 UTC January 1, 1979 to 18 UTC December 31, 2016.  The unit is meters^2/sec^2.  Divide by g = 9.81 m/s^2 to obtain geopotential height, the altitude at which you find 300 hPa."
   ]
  },
  {
   "cell_type": "code",
   "execution_count": 1,
   "metadata": {
    "collapsed": true
   },
   "outputs": [],
   "source": [
    "#import packages, for now everything I think I'll need\n",
    "import numpy as np\n",
    "from netCDF4 import Dataset, num2date # This is to read .nc files and time array\n",
    "from scipy.signal import get_window, csd\n",
    "from scipy.fftpack import fft, ifft, fftshift, fftfreq\n",
    "import matplotlib.pyplot as plt\n",
    "from cartopy.util import add_cyclic_point\n",
    "import cartopy.crs as ccrs\n",
    "import pandas as pd\n",
    "import datetime\n",
    "from math import pi"
   ]
  },
  {
   "cell_type": "code",
   "execution_count": 2,
   "metadata": {},
   "outputs": [
    {
     "data": {
      "text/plain": [
       "<class 'netCDF4._netCDF4.Dataset'>\n",
       "root group (NETCDF3_CLASSIC data model, file format NETCDF3):\n",
       "    dimensions(sizes): longitude(240), time(55520)\n",
       "    variables(dimensions): float32 \u001b[4mz\u001b[0m(time,longitude)\n",
       "    groups: "
      ]
     },
     "execution_count": 2,
     "metadata": {},
     "output_type": "execute_result"
    }
   ],
   "source": [
    "filepath = '/home/clairev/uncategorized-data/1979-2016-300hPa-40.5N-z.nc' # Location of the file\n",
    "fileobj = Dataset(filepath, mode='r')\n",
    "\n",
    "# Check what's in there\n",
    "fileobj"
   ]
  },
  {
   "cell_type": "code",
   "execution_count": 16,
   "metadata": {},
   "outputs": [
    {
     "name": "stdout",
     "output_type": "stream",
     "text": [
      "[datetime.datetime(1979, 1, 1, 0, 0) datetime.datetime(1979, 1, 1, 6, 0)\n",
      " datetime.datetime(1979, 1, 1, 12, 0) ...,\n",
      " datetime.datetime(2016, 12, 31, 6, 0)\n",
      " datetime.datetime(2016, 12, 31, 12, 0)\n",
      " datetime.datetime(2016, 12, 31, 18, 0)]\n"
     ]
    }
   ],
   "source": [
    "#load coordinates\n",
    "#so height[i] is the geopotential height at a given time\n",
    "height = fileobj.variables['z'][:]/9.81\n",
    "\n",
    "#create time array\n",
    "time_list = []\n",
    "for i in range(0,55520):\n",
    "    time_list.append(i*6)\n",
    "tunit = \"hours since 1979-01-01T00:00:00Z\"\n",
    "tarray = num2date(time_list,units = tunit,calendar = 'gregorian')\n",
    "print(tarray)\n",
    "\n",
    "#create longitude array\n",
    "lon_list = []\n",
    "for i in range(240):\n",
    "    lon_list.append(i*1.5)"
   ]
  },
  {
   "cell_type": "code",
   "execution_count": 4,
   "metadata": {
    "collapsed": true
   },
   "outputs": [],
   "source": [
    "#find and index the winter dates\n",
    "winter_index = []\n",
    "\n",
    "for i in range(0,55520):\n",
    "    if tarray[i].month == 1:\n",
    "        winter_index.append(i)\n",
    "    if tarray[i].month == 2:\n",
    "        winter_index.append(i)\n",
    "    if tarray[i].month == 12:\n",
    "        winter_index.append(i)"
   ]
  },
  {
   "cell_type": "markdown",
   "metadata": {},
   "source": [
    "### apply zonal fft to all winter dates"
   ]
  },
  {
   "cell_type": "code",
   "execution_count": 20,
   "metadata": {
    "collapsed": true
   },
   "outputs": [],
   "source": [
    "#xf will be always the same\n",
    "N = 240\n",
    "T = 1./N\n",
    "xfzone = fftfreq(N, d=(T))"
   ]
  },
  {
   "cell_type": "code",
   "execution_count": 45,
   "metadata": {},
   "outputs": [],
   "source": [
    "#ck will change with date\n",
    "ckzone_list = []\n",
    "\n",
    "for i in winter_index: #change index to something smaller if need to check!\n",
    "    snapshot = height[i]\n",
    "    N = 240\n",
    "    T = 1./N\n",
    "    ck = 1/N * fft(snapshot)\n",
    "    ckzone_list.append(ck)"
   ]
  },
  {
   "cell_type": "code",
   "execution_count": 54,
   "metadata": {},
   "outputs": [],
   "source": [
    "#average ck over all ck! HAVE THE WRONG NUMBER!\n",
    "avg_zonal = []\n",
    "\n",
    "for i in range(N):\n",
    "    newmean = np.mean(ckzone_list[:][i])\n",
    "    avg_zonal.append(newmean)"
   ]
  },
  {
   "cell_type": "markdown",
   "metadata": {
    "collapsed": true
   },
   "source": [
    "### apply time-domain fft for winter dates (original code)\n",
    "\n",
    "will no longer use? the code following this seems better, but I will leave the following blocks in markdown for reference"
   ]
  },
  {
   "cell_type": "markdown",
   "metadata": {
    "collapsed": true
   },
   "source": [
    "#choose a window length\n",
    "window_length = 300.\n",
    "freq_timedomain = [] #where each freq_timedomain[i] is time domain fft at longitude i*1.5\n",
    "power_timedomain = [] #where power is indexed the same as freq_timedomain"
   ]
  },
  {
   "cell_type": "markdown",
   "metadata": {
    "collapsed": true
   },
   "source": [
    "#double index a list\n",
    "for i in range(0,N): #range(0,N):\n",
    "    loni = []\n",
    "    \n",
    "    for j in winter_index:\n",
    "        loni.append(fileobj.variables['z'][j,i]/9.81)\n",
    "    \n",
    "    freqi, power_speci = csd(loni,loni, fs=4, \n",
    "                           window='hann', \n",
    "                           nperseg=window_length, scaling='spectrum')\n",
    "    freq_timedomain.append(freqi)\n",
    "    power_timedomain.append(power_speci)    "
   ]
  },
  {
   "cell_type": "markdown",
   "metadata": {},
   "source": [
    "### alternate ways to apply hanning window\n",
    "transform each year separately, and then take the average spectra"
   ]
  },
  {
   "cell_type": "code",
   "execution_count": 56,
   "metadata": {
    "collapsed": true
   },
   "outputs": [],
   "source": [
    "#create indexing for each year, so can find the dates\n",
    "year_number = 2016 - 1979\n",
    "\n",
    "year_index = [] #year_index[i] will be index of dates of year 1979 + i \n",
    "\n",
    "for j in range(0,year_number): #1979 left out because no december for that winter, as is 2016\n",
    "    yearj_index = []\n",
    "    for i in range(0,55520):\n",
    "        if tarray[i].year == 1979 + j:\n",
    "            yearj_index.append(i)\n",
    "    year_index.append(yearj_index)"
   ]
  },
  {
   "cell_type": "code",
   "execution_count": 57,
   "metadata": {
    "collapsed": true
   },
   "outputs": [],
   "source": [
    "#find and index the winter dates by month\n",
    "dec_index = []\n",
    "jan_index = []\n",
    "feb_index = []\n",
    "\n",
    "for i in range(0,55520):\n",
    "    if tarray[i].month == 1:\n",
    "        jan_index.append(i)\n",
    "    if tarray[i].month == 2:\n",
    "        feb_index.append(i)\n",
    "    if tarray[i].month == 12:\n",
    "        dec_index.append(i)"
   ]
  },
  {
   "cell_type": "code",
   "execution_count": null,
   "metadata": {
    "collapsed": true
   },
   "outputs": [],
   "source": [
    "#the winter of the year, will be the winter that began in december of the year noted\n",
    "freq_timebyyr = []\n",
    "power_timebyyr = []\n",
    "\n",
    "#choose a window length\n",
    "window_length = 300\n",
    "\n",
    "#then transform each year individually \n",
    "for i in range(0,N): #for each longitude\n",
    "    freqi_byyr = [] #will append the fft for each year to this\n",
    "    poweri_byyr = [] #will append the fft for each year to this, then add to the entire list\n",
    "    \n",
    "    for k in range(0,(year_number)): #go over each year - so can run and check other things\n",
    "        \n",
    "        lonik = []\n",
    "        for j in range(0,55520):\n",
    "            if j in dec_index and year_index[k]:\n",
    "                lonik.append(fileobj.variables['z'][j,i]/9.81)\n",
    "            \n",
    "            if j in jan_index and year_index[k+1]:\n",
    "                lonik.append(fileobj.variables['z'][j,i]/9.81)\n",
    "            \n",
    "            if j in feb_index and year_index[k + 1]:\n",
    "                lonik.append(fileobj.variables['z'][j,i]/9.81)\n",
    "    \n",
    "        freqi_yeark, power_speci_yeark = csd(lonik,lonik, fs=4, \n",
    "                           window='hann', \n",
    "                           nperseg=window_length, scaling='spectrum')\n",
    "        freqi_byyr.append(freqi_yeark)\n",
    "        poweri_byyr.append(power_speci_yeark)\n",
    "\n",
    "    freq_timebyyr.append(freqi_byyr)\n",
    "    power_timebyyr.append(poweri_byyr)    "
   ]
  },
  {
   "cell_type": "markdown",
   "metadata": {},
   "source": [
    "### take averages of the fft\n",
    "freq = same for all of these, power = different, so will average all of the power with numpy mean function"
   ]
  },
  {
   "cell_type": "code",
   "execution_count": null,
   "metadata": {},
   "outputs": [],
   "source": [
    "average_power = []\n",
    "size_power = power_timebyyr[0][0].size\n",
    "\n",
    "for i in range(size_power):\n",
    "    meanpoweri = np.mean(power_timebyyr[:][:][i])\n",
    "    average_power.append(meanpoweri)"
   ]
  },
  {
   "cell_type": "code",
   "execution_count": null,
   "metadata": {
    "collapsed": true
   },
   "outputs": [],
   "source": []
  }
 ],
 "metadata": {
  "kernelspec": {
   "display_name": "Python 3",
   "language": "python",
   "name": "python3"
  },
  "language_info": {
   "codemirror_mode": {
    "name": "ipython",
    "version": 3
   },
   "file_extension": ".py",
   "mimetype": "text/x-python",
   "name": "python",
   "nbconvert_exporter": "python",
   "pygments_lexer": "ipython3",
   "version": "3.6.3"
  }
 },
 "nbformat": 4,
 "nbformat_minor": 2
}
