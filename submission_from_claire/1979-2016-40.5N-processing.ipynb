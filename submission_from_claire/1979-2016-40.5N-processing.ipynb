{
 "cells": [
  {
   "cell_type": "markdown",
   "metadata": {},
   "source": [
    "##### edited by Claire Valva, May 5, 2018\n",
    "\n",
    "# 1979 to 2016 300hPa at 40.5 deg data processed\n",
    "will be using file: 1979-2016-300hPa-40.5N-z.nc \n",
    "which is currently located in ~/uncategorized data\n",
    "\n",
    "This file contains a single 2D array called “z”, whose dimension is (240, 55520).  The first dimension is longitude, 1.5 degree interval from 0 to 358.5 (0 is Greenwich Mean).  The second dimension is time, 6 hours apart, from 00 UTC January 1, 1979 to 18 UTC December 31, 2016.  The unit is meters^2/sec^2.  Divide by g = 9.81 m/s^2 to obtain geopotential height, the altitude at which you find 300 hPa."
   ]
  },
  {
   "cell_type": "code",
   "execution_count": 1,
   "metadata": {
    "collapsed": true
   },
   "outputs": [],
   "source": [
    "#import packages, for now everything I think I'll need\n",
    "import numpy as np\n",
    "from netCDF4 import Dataset, num2date # This is to read .nc files and time array\n",
    "import scipy.signal\n",
    "from scipy.fftpack import fft, ifft, fftshift, fftfreq\n",
    "import matplotlib.pyplot as plt\n",
    "from cartopy.util import add_cyclic_point\n",
    "import cartopy.crs as ccrs\n",
    "import pandas as pd\n",
    "import datetime\n",
    "from math import pi"
   ]
  },
  {
   "cell_type": "code",
   "execution_count": 2,
   "metadata": {},
   "outputs": [
    {
     "data": {
      "text/plain": [
       "<class 'netCDF4._netCDF4.Dataset'>\n",
       "root group (NETCDF3_CLASSIC data model, file format NETCDF3):\n",
       "    dimensions(sizes): longitude(240), time(55520)\n",
       "    variables(dimensions): float32 \u001b[4mz\u001b[0m(time,longitude)\n",
       "    groups: "
      ]
     },
     "execution_count": 2,
     "metadata": {},
     "output_type": "execute_result"
    }
   ],
   "source": [
    "filepath = '/home/clairev/uncategorized-data/1979-2016-300hPa-40.5N-z.nc' # Location of the file\n",
    "fileobj = Dataset(filepath, mode='r')\n",
    "\n",
    "# Check what's in there\n",
    "fileobj"
   ]
  },
  {
   "cell_type": "code",
   "execution_count": 3,
   "metadata": {},
   "outputs": [
    {
     "name": "stdout",
     "output_type": "stream",
     "text": [
      "[datetime.datetime(1979, 1, 1, 0, 0) datetime.datetime(1979, 1, 1, 6, 0)\n",
      " datetime.datetime(1979, 1, 1, 12, 0) ...,\n",
      " datetime.datetime(2016, 12, 31, 6, 0)\n",
      " datetime.datetime(2016, 12, 31, 12, 0)\n",
      " datetime.datetime(2016, 12, 31, 18, 0)]\n"
     ]
    }
   ],
   "source": [
    "#load coordinates\n",
    "height = fileobj.variables['z'][:]/9.81\n",
    "\n",
    "#create time array\n",
    "time_list = []\n",
    "for i in range(0,55520):\n",
    "    time_list.append(i*6)\n",
    "tunit = \"hours since 1979-01-01T00:00:00Z\"\n",
    "tarray = num2date(time_list,units = tunit,calendar = 'gregorian')\n",
    "print(tarray)\n",
    "\n",
    "#create longitude array\n",
    "lon_list = []\n",
    "for i in range(240):\n",
    "    lon_list.append(i*1.5)"
   ]
  },
  {
   "cell_type": "markdown",
   "metadata": {},
   "source": [
    "# plot 1st 3 months of geopotential height"
   ]
  },
  {
   "cell_type": "code",
   "execution_count": 23,
   "metadata": {
    "collapsed": true
   },
   "outputs": [],
   "source": [
    "#(for now) use scatterplot to make movie of 1st 3 months of geopotenital height\n",
    "maxhgt = height[:].max()\n",
    "minhgt = height[:].min()\n",
    "\n",
    "for i in range(360):\n",
    "    timestamp = tarray[i]\n",
    "    \n",
    "    plt.clf();\n",
    "    plt.scatter(lon_list[:],height[i], color = \"b\")\n",
    "    plt.ylim((minhgt, maxhgt))\n",
    "    plt.xlim((0,365))\n",
    "    plt.xlabel('longitude')\n",
    "    plt.ylabel('geopotential height (m)')\n",
    "    plt.title('geopotential height on '+str(timestamp))\n",
    "    plt.tight_layout()\n",
    "    plt.show\n",
    "\n",
    "    plt.savefig('405N-processing-pic/geohgt'+str(i).zfill(3)+'.png')"
   ]
  },
  {
   "cell_type": "markdown",
   "metadata": {},
   "source": [
    "# Hovmoeller diagram"
   ]
  },
  {
   "cell_type": "code",
   "execution_count": 28,
   "metadata": {
    "collapsed": true
   },
   "outputs": [],
   "source": [
    "# Setting the contour levels for the colored plot\n",
    "color_intervals = np.linspace(minhgt * 0.99,\n",
    "                              maxhgt*1.01, 60,\n",
    "                              endpoint=True)\n",
    "\n",
    "# Set the contour levels for the contour lines\n",
    "contour_intervals = np.linspace(minhgt * 0.99,\n",
    "                              maxhgt*1.01,\n",
    "                                20,\n",
    "                                endpoint=True)"
   ]
  },
  {
   "cell_type": "code",
   "execution_count": 39,
   "metadata": {
    "collapsed": true
   },
   "outputs": [],
   "source": [
    "#create list for plotting first few dates\n",
    "firstdates = tarray[range(360)]\n",
    "firsthgts = height[range(360)]\n",
    "    \n",
    "#create plot    \n",
    "plt.clf();\n",
    "plt.figure(figsize=(30, 30)); #a giant image but its detailed\n",
    "plt.contourf(lon_list, firstdates, firsthgts, color_intervals, cmap='rainbow', alpha=0.5) \n",
    "plt.title('Hovmoeller Diagram')\n",
    "plt.colorbar(shrink=0.5)\n",
    "plt.contour(lon_list, firstdates, firsthgts, contour_intervals, colors='k', alpha=0.5)\n",
    "plt.xlabel('longitude')\n",
    "plt.ylabel('date')\n",
    "plt.savefig('405N-processing-pic/hovtest.png')"
   ]
  },
  {
   "cell_type": "code",
   "execution_count": null,
   "metadata": {
    "collapsed": true
   },
   "outputs": [],
   "source": []
  }
 ],
 "metadata": {
  "kernelspec": {
   "display_name": "Python 3",
   "language": "python",
   "name": "python3"
  },
  "language_info": {
   "codemirror_mode": {
    "name": "ipython",
    "version": 3
   },
   "file_extension": ".py",
   "mimetype": "text/x-python",
   "name": "python",
   "nbconvert_exporter": "python",
   "pygments_lexer": "ipython3",
   "version": "3.6.3"
  }
 },
 "nbformat": 4,
 "nbformat_minor": 2
}
