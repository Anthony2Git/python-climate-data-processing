{
 "cells": [
  {
   "cell_type": "code",
   "execution_count": 1,
   "metadata": {
    "collapsed": true
   },
   "outputs": [],
   "source": [
    "#Version 2, questions answered edited by Claire on March 14, 2018"
   ]
  },
  {
   "cell_type": "markdown",
   "metadata": {},
   "source": [
    "Compute Fourier coefficients using FFT"
   ]
  },
  {
   "cell_type": "markdown",
   "metadata": {},
   "source": [
    "Loading modules for fast Fourier transform (FFT) and inverse fast Fourier transform (IFFT) from SciPy package"
   ]
  },
  {
   "cell_type": "code",
   "execution_count": 22,
   "metadata": {
    "collapsed": true
   },
   "outputs": [],
   "source": [
    "from scipy.fftpack import fft, ifft # Load fast Fourier transform packages from scipy\n",
    "import numpy as np\n",
    "import matplotlib.pyplot as plt\n",
    "%matplotlib inline\n",
    "from math import pi"
   ]
  },
  {
   "cell_type": "markdown",
   "metadata": {},
   "source": [
    "An example of FFT and IFFT operation"
   ]
  },
  {
   "cell_type": "code",
   "execution_count": 23,
   "metadata": {
    "collapsed": true
   },
   "outputs": [],
   "source": [
    "#create a set of N evenly spaced discrete data points\n",
    "N = 100 # spacing of data / resolution\n",
    "x = 2*pi*np.arange(N)/N\n",
    "y = np.cos(x)"
   ]
  },
  {
   "cell_type": "markdown",
   "metadata": {},
   "source": [
    "Plot the data to see how it looks"
   ]
  },
  {
   "cell_type": "code",
   "execution_count": 24,
   "metadata": {},
   "outputs": [
    {
     "data": {
      "image/png": "[encoded data removed]",
      "text/plain": [
       "<matplotlib.figure.Figure at 0x7f4fb0076518>"
      ]
     },
     "metadata": {},
     "output_type": "display_data"
    }
   ],
   "source": [
    "plt.scatter(x,y)\n",
    "plt.xlim((x.min(),x.max()))\n",
    "plt.xlabel('x')\n",
    "plt.ylabel('y')\n",
    "plt.tight_layout()\n",
    "plt.show()"
   ]
  },
  {
   "cell_type": "markdown",
   "metadata": {},
   "source": [
    "\n",
    "We know that $$y = \\cos(\\lambda)$$ can be written as $$y = \\frac{1}{2} e^{-i\\lambda} + \\frac{1}{2} e^{i\\lambda}.$$ The coefficients $$c_{-1} = c_{1} = \\frac{1}{2}$$ while other coefficients are zeros.\n",
    "\n",
    "Let's trying doing a discrete FFT on $y$. Note that the output of fft(y) is in fact $N c_k$ given $c_k$ defined above. A factor of $\\frac{1}{N}$ is multipled here to recover $c_k$.\n"
   ]
  },
  {
   "cell_type": "code",
   "execution_count": 25,
   "metadata": {},
   "outputs": [
    {
     "name": "stdout",
     "output_type": "stream",
     "text": [
      "100\n"
     ]
    }
   ],
   "source": [
    "ck = 1/N * fft(y)\n",
    "print(ck.size)"
   ]
  },
  {
   "cell_type": "markdown",
   "metadata": {},
   "source": [
    "What do the 100 elements in ck represent? Referring to the SciPy documentation (y in the documentation below is N*ck in this notebook):\n",
    "\n",
    "For N even, the elements y[1]...y[N/2−1] contain the positive-frequency terms, and the elements y[N/2]...y[N−1] contain the negative-frequency terms, in order of decreasingly negative frequency. For N odd, the elements y[1]...y[(N−1)/2] contain the positive- frequency terms, and the elements y[(N+1)/2]...y[N−1] contain the negative- frequency terms, in order of decreasingly negative frequency.\n",
    "\n",
    "In the example I show here, $\\cos \\left(\\frac{2\\pi n}{N} \\right)$ is an even function. We would expect the positive and negative frequency terms corresponding to the same frequency have the same magnitude. Let's check if that's the case."
   ]
  },
  {
   "cell_type": "code",
   "execution_count": 26,
   "metadata": {
    "collapsed": true
   },
   "outputs": [],
   "source": [
    "T = 1./x.size\n",
    "xf = np.hstack(( np.arange(0,N//2), np.arange(-N//2,0) ))"
   ]
  },
  {
   "cell_type": "markdown",
   "metadata": {},
   "source": [
    "Confirm that xf and cf are of the same size"
   ]
  },
  {
   "cell_type": "code",
   "execution_count": 27,
   "metadata": {},
   "outputs": [
    {
     "name": "stdout",
     "output_type": "stream",
     "text": [
      "xf.size= 100\n",
      "ck.size= 100\n"
     ]
    }
   ],
   "source": [
    "print('xf.size=',xf.size)\n",
    "print('ck.size=',ck.size)"
   ]
  },
  {
   "cell_type": "code",
   "execution_count": 28,
   "metadata": {},
   "outputs": [
    {
     "name": "stdout",
     "output_type": "stream",
     "text": [
      "[ -2.33146835e-17 +0.00000000e+00j   5.00000000e-01 -6.80047730e-17j\n",
      "   5.75160293e-18 -2.45929817e-17j   2.56533007e-17 -5.69044597e-18j\n",
      "   1.17745885e-18 +2.78004314e-17j  -1.18692392e-17 -2.10361300e-17j\n",
      "   2.95612411e-19 +1.16984114e-17j   1.08261127e-17 +2.82636527e-17j\n",
      "  -1.03792696e-17 +7.06374423e-19j   5.55492036e-18 -1.20217872e-17j]\n"
     ]
    }
   ],
   "source": [
    "#print coefficient c_k and see what it looks like\n",
    "print(ck[:10])"
   ]
  },
  {
   "cell_type": "markdown",
   "metadata": {},
   "source": [
    "Since cos is an even function, the imaginary part of $c_k$ are zero. Only the real part of $c_1$ is non-vanishing (as expected). Let's plot $\\|c_k\\|$ in a bar graph, where $n \\in [-10,10]$:"
   ]
  },
  {
   "cell_type": "code",
   "execution_count": 29,
   "metadata": {},
   "outputs": [
    {
     "data": {
      "image/png": "[encoded data removed]",
      "text/plain": [
       "<matplotlib.figure.Figure at 0x7f4fa74e3dd8>"
      ]
     },
     "metadata": {},
     "output_type": "display_data"
    }
   ],
   "source": [
    "plt.bar(xf, np.abs(ck)) # Take the absolute value. \n",
    "# In this case, cosine is an even function, so this is equivalent to the real value.\n",
    "plt.xticks(xf)\n",
    "plt.xlim((-10,10))\n",
    "plt.title('Fourier spectrum')\n",
    "plt.xlabel('wavenumber (k)');\n",
    "plt.ylabel('magnitude of Fourier coefficients');\n",
    "plt.show()"
   ]
  },
  {
   "cell_type": "markdown",
   "metadata": {},
   "source": [
    "Inverse Fourier transform\n",
    "\n",
    "To recover the series from the Fourier coefficients, you can use the inverse Fourier transform function (ifft) as demonstrated below. Note that if y = fft(x), then x = ifft(y)."
   ]
  },
  {
   "cell_type": "code",
   "execution_count": 30,
   "metadata": {},
   "outputs": [
    {
     "name": "stderr",
     "output_type": "stream",
     "text": [
      "/home/clairev/anaconda3/lib/python3.6/site-packages/numpy/core/numeric.py:583: ComplexWarning: Casting complex values to real discards the imaginary part\n",
      "  return array(a, dtype, copy=False, order=order, subok=True)\n"
     ]
    },
    {
     "data": {
      "image/png": "[encoded data removed]",
      "text/plain": [
       "<matplotlib.figure.Figure at 0x7f4fa77292b0>"
      ]
     },
     "metadata": {},
     "output_type": "display_data"
    }
   ],
   "source": [
    "y_recovered = ifft(N * ck)\n",
    "\n",
    "plt.scatter(x,y_recovered)\n",
    "plt.xlim((x.min(),x.max()))\n",
    "plt.xlabel('x')\n",
    "plt.ylabel('y_recovered')\n",
    "plt.tight_layout()\n",
    "plt.show()"
   ]
  },
  {
   "cell_type": "markdown",
   "metadata": {},
   "source": [
    "# Exercise\n",
    "For each of the following functions,\n",
    "\n",
    "describe how you would expect the Fourier spectrum ($c_k$) to look like;\n",
    "use the results from FFT to confirm your answer; and lastly,\n",
    "recover the original time series using the Fourier coefficients obtained from FFT, and plot it out.\n",
    "Bonus question: Can you initialize a array ck_4 such that IFFT would recover $\\sin\\lambda$?\n",
    "Hint: In python, j denotes the imaginary unit. If I want to construct $\\cos\\lambda$ from Fourier coefficients ck_x, I would initialize ck_x by:\n",
    "\n",
    "ck_x = np.zeros((N),'complex')\n",
    "ck_x[1] = 0.5+0.j\n",
    "ck_x[-1] = 0.5+0.j\n",
    "y_recovered = ifft(N * ck)"
   ]
  },
  {
   "cell_type": "markdown",
   "metadata": {},
   "source": [
    "Question 1\n",
    "$f(\\lambda) = 1 + 2\\cos \\lambda - 3\\sin \\lambda$.\n",
    "How would the spectrum look like? Which coefficients $\\|c_k\\|$ are non-trivial? What are their expected values?\n",
    "(Double click to type in your answer, and then press Shift+return)\n",
    "\n",
    "The spectrum will have peaks of at k = -1, k = 0, k = 1. We also know that as sine and cosine are both present, there will be an imaginary portion. "
   ]
  },
  {
   "cell_type": "code",
   "execution_count": 31,
   "metadata": {},
   "outputs": [
    {
     "name": "stdout",
     "output_type": "stream",
     "text": [
      "100\n",
      "x1f.size= 100\n",
      "c1k.size= 100\n"
     ]
    },
    {
     "data": {
      "image/png": "[encoded data removed]",
      "text/plain": [
       "<matplotlib.figure.Figure at 0x7f4fa7496e48>"
      ]
     },
     "metadata": {},
     "output_type": "display_data"
    }
   ],
   "source": [
    "# Type your code here for Question 1\n",
    "N1 = 100 # spacing of data / resolution\n",
    "x1 = 2*pi*np.arange(N)/N\n",
    "y1 = 1+2*np.cos(x1)-3*np.sin(x1) # replace None with your code\n",
    "\n",
    "#make plot\n",
    "plt.scatter(x1,y1)\n",
    "plt.xlim((x1.min(),x1.max()))\n",
    "plt.xlabel('x1')\n",
    "plt.ylabel('y1')\n",
    "plt.tight_layout()\n",
    "plt.show\n",
    "\n",
    "#check size\n",
    "c1k = 1/N*fft(y1)\n",
    "print(c1k.size)\n",
    "\n",
    "t1 = 1./x1.size\n",
    "x1f = np.hstack(( np.arange(0,N// 2), np.arange(-N//2,0)  ))\n",
    "\n",
    "#check they are the same size\n",
    "print( 'x1f.size=', x1f.size)\n",
    "print( 'c1k.size=', c1k.size)\n",
    "\n"
   ]
  },
  {
   "cell_type": "code",
   "execution_count": 32,
   "metadata": {},
   "outputs": [
    {
     "data": {
      "image/png": "[encoded data removed]",
      "text/plain": [
       "<matplotlib.figure.Figure at 0x7f4fa79a78d0>"
      ]
     },
     "metadata": {},
     "output_type": "display_data"
    },
    {
     "name": "stderr",
     "output_type": "stream",
     "text": [
      "/home/clairev/anaconda3/lib/python3.6/site-packages/numpy/core/numeric.py:583: ComplexWarning: Casting complex values to real discards the imaginary part\n",
      "  return array(a, dtype, copy=False, order=order, subok=True)\n"
     ]
    },
    {
     "data": {
      "text/plain": [
       "<function matplotlib.pyplot.show>"
      ]
     },
     "execution_count": 32,
     "metadata": {},
     "output_type": "execute_result"
    },
    {
     "data": {
      "image/png": "[encoded data removed]",
      "text/plain": [
       "<matplotlib.figure.Figure at 0x7f4fa76dbd30>"
      ]
     },
     "metadata": {},
     "output_type": "display_data"
    }
   ],
   "source": [
    "#plot fourier spectrum\n",
    "plt.bar(x1f, np.abs(c1k)) #take absolute value because want the magnitude)\n",
    "plt.xticks(xf)\n",
    "plt.xlim((-10,10))\n",
    "plt.title('Fourier spectrum')\n",
    "plt.xlabel('wavenumber (k)');\n",
    "plt.ylabel('magnitude of Fourier coefficients');\n",
    "plt.show()\n",
    "\n",
    "#get it back\n",
    "y1_recovered = ifft(N*c1k)\n",
    "\n",
    "plt.scatter(x1,y1_recovered)\n",
    "plt.xlim((x1.min(),x1.max()))\n",
    "plt.xlabel('x')\n",
    "plt.ylabel('y_recovered')\n",
    "plt.tight_layout\n",
    "plt.show\n"
   ]
  },
  {
   "cell_type": "code",
   "execution_count": 33,
   "metadata": {},
   "outputs": [
    {
     "name": "stdout",
     "output_type": "stream",
     "text": [
      "[  1.00000000e+00 +0.00000000e+00j   1.00000000e+00 +1.50000000e+00j\n",
      "  -6.53072876e-18 +2.40752800e-17j   6.72909468e-17 +7.01387342e-17j\n",
      "  -3.05872819e-17 +1.15905380e-16j  -6.07208923e-17 +4.07621352e-18j\n",
      "   3.87809976e-17 -3.86247070e-17j  -1.37428325e-17 +7.75939917e-17j\n",
      "  -3.64488640e-17 -6.23193109e-17j  -7.52881217e-18 +3.66595751e-17j]\n"
     ]
    }
   ],
   "source": [
    "#see values of ck\n",
    "print(c1k[:10])"
   ]
  },
  {
   "cell_type": "markdown",
   "metadata": {},
   "source": [
    "Question 2\n",
    "$f(\\lambda) = \\cos 2\\lambda - 5\\sin 3\\lambda$.\n",
    "How would the spectrum look like? Which coefficients $\\|c_k\\|$ are non-trivial? What are their expected values?\n",
    "(Double click to type in your answer, and then press Shift+return) \n",
    "The Fourier spectrum will have peaks where k = -3, -2, 2, and 3. "
   ]
  },
  {
   "cell_type": "code",
   "execution_count": 34,
   "metadata": {},
   "outputs": [
    {
     "data": {
      "text/plain": [
       "<function matplotlib.pyplot.show>"
      ]
     },
     "execution_count": 34,
     "metadata": {},
     "output_type": "execute_result"
    },
    {
     "data": {
      "image/png": "[encoded data removed]",
      "text/plain": [
       "<matplotlib.figure.Figure at 0x7f4fa74e84e0>"
      ]
     },
     "metadata": {},
     "output_type": "display_data"
    }
   ],
   "source": [
    "#Code for Question 2\n",
    "N1 = 100 # spacing of data / resolution\n",
    "x1 = 2*pi*np.arange(N)/N\n",
    "y2 = np.cos(2*x1)-5*np.sin(3*x1) # replace None with your code\n",
    "\n",
    "#make plot\n",
    "plt.scatter(x1,y2)\n",
    "plt.xlim((x1.min(),x1.max()))\n",
    "plt.xlabel('x1')\n",
    "plt.ylabel('y2')\n",
    "plt.tight_layout()\n",
    "plt.show"
   ]
  },
  {
   "cell_type": "code",
   "execution_count": 35,
   "metadata": {},
   "outputs": [
    {
     "name": "stdout",
     "output_type": "stream",
     "text": [
      "100\n",
      "x2f.size= 100\n",
      "c2k.size= 100\n"
     ]
    },
    {
     "data": {
      "image/png": "[encoded data removed]",
      "text/plain": [
       "<matplotlib.figure.Figure at 0x7f4fa79c0c88>"
      ]
     },
     "metadata": {},
     "output_type": "display_data"
    },
    {
     "name": "stdout",
     "output_type": "stream",
     "text": [
      "[ -6.93889390e-16 +0.00000000e+00j   1.68557152e-16 -5.10186384e-16j\n",
      "   5.00000000e-01 -4.68514116e-16j   7.10287473e-16 +2.50000000e+00j\n",
      "   1.22465162e-16 +8.86322614e-17j   3.94314177e-16 +6.30197640e-16j\n",
      "  -2.72600170e-16 +3.97268408e-16j  -7.14975669e-17 +3.27528225e-16j\n",
      "   6.04479331e-18 -1.74608063e-16j  -4.57726586e-16 +4.30233777e-16j]\n"
     ]
    }
   ],
   "source": [
    "#check size and declare c2k\n",
    "c2k = 1/N*fft(y2)\n",
    "print(c2k.size)\n",
    "\n",
    "t1 = 1./x1.size\n",
    "x2f = np.hstack(( np.arange(0,N// 2), np.arange(-N//2,0)  ))\n",
    "\n",
    "#check they are the same size\n",
    "print( 'x2f.size=', x2f.size)\n",
    "print( 'c2k.size=', c1k.size)\n",
    "\n",
    "#plot fourier spectrum\n",
    "plt.bar(x2f, np.abs(c2k)) #take absolute value because want the magnitude)\n",
    "plt.xticks(xf)\n",
    "plt.xlim((-10,10))\n",
    "plt.title('Fourier spectrum')\n",
    "plt.xlabel('wavenumber (k)');\n",
    "plt.ylabel('magnitude of Fourier coefficients');\n",
    "plt.show()\n",
    "\n",
    "#see values of c2k\n",
    "print(c2k[:10])"
   ]
  },
  {
   "cell_type": "code",
   "execution_count": 36,
   "metadata": {},
   "outputs": [
    {
     "name": "stderr",
     "output_type": "stream",
     "text": [
      "/home/clairev/anaconda3/lib/python3.6/site-packages/numpy/core/numeric.py:583: ComplexWarning: Casting complex values to real discards the imaginary part\n",
      "  return array(a, dtype, copy=False, order=order, subok=True)\n"
     ]
    },
    {
     "data": {
      "text/plain": [
       "<function matplotlib.pyplot.show>"
      ]
     },
     "execution_count": 36,
     "metadata": {},
     "output_type": "execute_result"
    },
    {
     "data": {
      "image/png": "[encoded data removed]",
      "text/plain": [
       "<matplotlib.figure.Figure at 0x7f4fa750c048>"
      ]
     },
     "metadata": {},
     "output_type": "display_data"
    }
   ],
   "source": [
    "#get it back\n",
    "y2_recovered = ifft(N*c2k)\n",
    "\n",
    "plt.scatter(x1,y2_recovered)\n",
    "plt.xlim((x1.min(),x1.max()))\n",
    "plt.xlabel('x')\n",
    "plt.ylabel('y_recovered')\n",
    "plt.tight_layout\n",
    "plt.show"
   ]
  },
  {
   "cell_type": "markdown",
   "metadata": {},
   "source": [
    "Question 3\n",
    "$f(\\lambda) = \\lambda$.\n",
    "What would the spectrum look like? For Question 3, it is good enough to give qualitative description."
   ]
  },
  {
   "cell_type": "markdown",
   "metadata": {},
   "source": [
    "As $f(\\lambda)$ will be a straight line, we will see a peak at k = 0, where as the absolute value of the wavenumber increases, the magnitude will decrease, such that the wave functions can mimic a straight line "
   ]
  },
  {
   "cell_type": "markdown",
   "metadata": {},
   "source": [
    "Bonus question: Can you initialize a array ck_4 such that IFFT would recover $\\sin\\lambda$?\n",
    "Hint: In python, j denotes the imaginary unit. If I want to construct $\\cos\\lambda$ from Fourier coefficients ck_x, I would initialize ck_x by:\n",
    "\n",
    "\n",
    "ck_x = np.zeros((N),'complex')\n",
    "\n",
    "ck_x[1] = 0.5+0.j\n",
    "\n",
    "ck_x[-1] = 0.5+0.j\n",
    "\n",
    "y_recovered = ifft(N * ck)"
   ]
  },
  {
   "cell_type": "code",
   "execution_count": 37,
   "metadata": {
    "collapsed": true
   },
   "outputs": [],
   "source": [
    "#initialize ck_4 to recover sin(lambda), \n",
    "#as e^x = isin(x) + cos(x), should be same as cosign just with imaginary portion\n",
    "ck_4 = np.zeros((N),'complex')\n",
    "ck_4[1] = 0 +0.5j\n",
    "ck_4[-1] = 0 +0.5j"
   ]
  }
 ],
 "metadata": {
  "kernelspec": {
   "display_name": "Python 3",
   "language": "python",
   "name": "python3"
  },
  "language_info": {
   "codemirror_mode": {
    "name": "ipython",
    "version": 3
   },
   "file_extension": ".py",
   "mimetype": "text/x-python",
   "name": "python",
   "nbconvert_exporter": "python",
   "pygments_lexer": "ipython3",
   "version": "3.6.3"
  }
 },
 "nbformat": 4,
 "nbformat_minor": 2
}
