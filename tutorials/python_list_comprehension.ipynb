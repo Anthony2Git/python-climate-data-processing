{
 "cells": [
  {
   "cell_type": "markdown",
   "metadata": {},
   "source": [
    "Last edited by Clare Huang (July 29, 2018)\n",
    "\n",
    "# Notes on python list comprehension/use of numpy arrays"
   ]
  },
  {
   "cell_type": "code",
   "execution_count": 1,
   "metadata": {
    "collapsed": true
   },
   "outputs": [],
   "source": [
    "import numpy as np"
   ]
  },
  {
   "cell_type": "markdown",
   "metadata": {},
   "source": [
    "# Initializing an array"
   ]
  },
  {
   "cell_type": "code",
   "execution_count": 2,
   "metadata": {
    "collapsed": true
   },
   "outputs": [],
   "source": [
    "lon_increment = 1.5 # The increment of each longitude grid is 1.5"
   ]
  },
  {
   "cell_type": "markdown",
   "metadata": {},
   "source": [
    "To initialize an array, instead of writing a two-line do-loop, you can use [list comprehension](https://www.pythonforbeginners.com/lists/list-comprehensions-in-python/). For example, if you want to create a list of longitude values, instead of\n",
    "\n",
    "```\n",
    "for i in range(240):\n",
    "    lon_list.append(i*1.5)\n",
    "```\n",
    "\n",
    "You can use:\n",
    "```\n",
    "lon_list = [i*1.5 for i in range(240)]\n",
    "```\n",
    "Or, if you use native data structure of python (list):"
   ]
  },
  {
   "cell_type": "code",
   "execution_count": 3,
   "metadata": {},
   "outputs": [
    {
     "name": "stdout",
     "output_type": "stream",
     "text": [
      "[0.0, 1.5, 3.0, 4.5, 6.0]\n"
     ]
    }
   ],
   "source": [
    "lon_list = [i * lon_increment for i in range(240)]\n",
    "\n",
    "print(lon_list[:5]) # print first 5 elements"
   ]
  },
  {
   "cell_type": "markdown",
   "metadata": {},
   "source": [
    "You can also make lon_list a `numpy array`:"
   ]
  },
  {
   "cell_type": "code",
   "execution_count": 4,
   "metadata": {},
   "outputs": [
    {
     "name": "stdout",
     "output_type": "stream",
     "text": [
      "Shape of lon_list: (240,)\n",
      "First 5 elements of lon_list: [ 0.   1.5  3.   4.5  6. ]\n",
      "Last 5 elements of lon_list: [ 352.5  354.   355.5  357.   358.5]\n"
     ]
    }
   ],
   "source": [
    "lon_list = np.arange(0, 360, lon_increment) # The arguments are (lower_bound, upper_bound, increment)\n",
    "\n",
    "print('Shape of lon_list: {}'.format(lon_list.shape))\n",
    "print('First 5 elements of lon_list: {}'.format(lon_list[:5]))\n",
    "print('Last 5 elements of lon_list: {}'.format(lon_list[-5:]))"
   ]
  },
  {
   "cell_type": "markdown",
   "metadata": {},
   "source": [
    "You can also include if-then statement when constructing a list. For example, if there are certain points you want to exclude from lon_list:"
   ]
  },
  {
   "cell_type": "code",
   "execution_count": 5,
   "metadata": {},
   "outputs": [
    {
     "name": "stdout",
     "output_type": "stream",
     "text": [
      "First 10 elements of lon_list: [  0.    1.5   3.    4.5   6.    7.5   9.   10.5  12.   13.5]\n",
      "First 10 elements of new_list: [1.5, 3.0, 4.5, 7.5, 10.5, 12.0, 13.5, 15.0, 16.5, 18.0]\n"
     ]
    }
   ],
   "source": [
    "lons_to_exclude = [0, 6, 9]\n",
    "new_list = [i for i in lon_list if i not in lons_to_exclude]\n",
    "\n",
    "print('First 10 elements of lon_list: {}'.format(lon_list[:10]))\n",
    "print('First 10 elements of new_list: {}'.format(new_list[:10]))"
   ]
  },
  {
   "cell_type": "markdown",
   "metadata": {},
   "source": [
    "# Initialize list of time stamps"
   ]
  },
  {
   "cell_type": "code",
   "execution_count": 6,
   "metadata": {
    "collapsed": true
   },
   "outputs": [],
   "source": [
    "import datetime as dt"
   ]
  },
  {
   "cell_type": "code",
   "execution_count": 7,
   "metadata": {
    "collapsed": true
   },
   "outputs": [],
   "source": [
    "tsize = 55520 # Number of timesteps"
   ]
  },
  {
   "cell_type": "markdown",
   "metadata": {},
   "source": [
    "There are two types of classes in `datetime`: `date` and `datetime`."
   ]
  },
  {
   "cell_type": "code",
   "execution_count": 8,
   "metadata": {},
   "outputs": [
    {
     "name": "stdout",
     "output_type": "stream",
     "text": [
      "<class 'datetime.date'>\n",
      "1979-01-01\n",
      "<class 'datetime.datetime'>\n",
      "1979-01-01 06:00:00\n"
     ]
    }
   ],
   "source": [
    "date_example = dt.date(1979, 1, 1) # make a datetime.date object for the date Jan 1, 1979\n",
    "print(type(date_example))\n",
    "print(date_example)\n",
    "\n",
    "datetime_example = dt.datetime(1979, 1, 1, 6, 0) # make a datetime.datetime object for the time Jan 1, 1979 6:00\n",
    "print(type(datetime_example))\n",
    "print(datetime_example)"
   ]
  },
  {
   "cell_type": "markdown",
   "metadata": {},
   "source": [
    "To initialize a list with datetime.datetime elements, you can use a one-liner:"
   ]
  },
  {
   "cell_type": "code",
   "execution_count": 9,
   "metadata": {
    "scrolled": true
   },
   "outputs": [
    {
     "name": "stdout",
     "output_type": "stream",
     "text": [
      "First 3 elements of tarray: \n",
      "[datetime.datetime(1979, 1, 1, 0, 0), datetime.datetime(1979, 1, 1, 6, 0), datetime.datetime(1979, 1, 1, 12, 0)]\n",
      "Last 3 elements of tarray: \n",
      "[datetime.datetime(2016, 12, 31, 6, 0), datetime.datetime(2016, 12, 31, 12, 0), datetime.datetime(2016, 12, 31, 18, 0)]\n"
     ]
    }
   ],
   "source": [
    "tarray = [dt.datetime(1979, 1, 1, 0, 0) + i * 6 * dt.timedelta(seconds=3600)\n",
    "          for i in range(tsize)]\n",
    "\n",
    "print('First 3 elements of tarray: \\n{}'.format(tarray[:3]))\n",
    "print('Last 3 elements of tarray: \\n{}'.format(tarray[-3:]))"
   ]
  },
  {
   "cell_type": "markdown",
   "metadata": {},
   "source": [
    "if you want indices in **December, January and February**, you can use if-then in list comprehension like:"
   ]
  },
  {
   "cell_type": "code",
   "execution_count": 10,
   "metadata": {},
   "outputs": [
    {
     "name": "stdout",
     "output_type": "stream",
     "text": [
      "Size of winter_index: 13720\n"
     ]
    }
   ],
   "source": [
    "winter_months = [12, 1, 2]\n",
    "winter_index = [i for i in range(tsize) if tarray[i].month in winter_months]\n",
    "\n",
    "print('Size of winter_index: {}'.format(len(winter_index)))"
   ]
  },
  {
   "cell_type": "markdown",
   "metadata": {},
   "source": [
    "datetime objects can be conveniently converted to strings of various format using `strftime`:"
   ]
  },
  {
   "cell_type": "code",
   "execution_count": 11,
   "metadata": {},
   "outputs": [
    {
     "data": {
      "text/plain": [
       "'1979/01/01 06:00:00'"
      ]
     },
     "execution_count": 11,
     "metadata": {},
     "output_type": "execute_result"
    }
   ],
   "source": [
    "datetime_example.strftime(\"%Y/%m/%d %H:%M:%S\")"
   ]
  }
 ],
 "metadata": {
  "kernelspec": {
   "display_name": "Python 3",
   "language": "python",
   "name": "python3"
  },
  "language_info": {
   "codemirror_mode": {
    "name": "ipython",
    "version": 3
   },
   "file_extension": ".py",
   "mimetype": "text/x-python",
   "name": "python",
   "nbconvert_exporter": "python",
   "pygments_lexer": "ipython3",
   "version": "3.6.3"
  }
 },
 "nbformat": 4,
 "nbformat_minor": 2
}
