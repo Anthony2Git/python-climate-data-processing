{
 "cells": [
  {
   "cell_type": "markdown",
   "metadata": {},
   "source": [
    "Version 2, edited by Clare on Feb 19, 2018 (9:34pm)"
   ]
  },
  {
   "cell_type": "markdown",
   "metadata": {},
   "source": [
    "### Relationship between discrete and continuous fourier transform (1D)\n",
    "\n",
    "Denote the wavenumber in longitude direction by $k$ and the space coordinate by $\\lambda$. The continuous fourier transform and inverse fourier transform are:\n",
    "$$ \\hat{Z}(k) = \\int^{2\\pi}_0 Z(\\lambda) e^{-ik\\lambda} d\\lambda$$\n",
    "$$ Z(\\lambda) = \\frac{1}{2\\pi}\\int^{2\\pi}_0 \\hat{Z}(k) e^{ik\\lambda} dk$$\n",
    "Denote $N$ as the length that the data is sampled. The corresponding discrete fourier trasnsform pairs are\n",
    "$$ \\hat{Z}(k) = \\sum_{n=0}^{N-1} Z(n) e^{-i\\frac{2\\pi kn}{N}} $$\n",
    "$$ Z(\\lambda) = \\frac{1}{N} \\sum_{k=0}^{N-1} \\hat{Z}(k) e^{i\\frac{2\\pi kn}{N}} $$\n",
    "where $\\lambda$ is discretized as $\\frac{2\\pi n}{N}$ with $n$ being an integer.\n",
    "\n",
    "### The fourier coefficients\n",
    "\n",
    "Writing $Z(\\lambda)$ as a fourier series,\n",
    "$$Z(\\lambda) = \\sum_{k=0}^{k_\\text{max}} (a_n\\cos(k\\lambda) + b_n\\sin(k\\lambda))$$\n",
    "and substitute that into the equation of $\\hat{Z}(k)$, we get\n",
    "$$ \\hat{Z}(k) = \\frac{1}{2} a_n - i \\frac{1}{2} b_n = \\frac{1}{2} c_n$$\n",
    "where $c_n = a_n + i b_n$. $c_n$ will be the output from the FFT."
   ]
  },
  {
   "cell_type": "markdown",
   "metadata": {},
   "source": [
    "### Loading modules for fast fourier transform (FFT) and inverse fast fourier transform (IFFT) from SciPy package"
   ]
  },
  {
   "cell_type": "code",
   "execution_count": 1,
   "metadata": {
    "collapsed": true
   },
   "outputs": [],
   "source": [
    "from scipy.fftpack import fft, ifft # Load fast fourier transform packages from scipy\n",
    "import numpy as np\n",
    "import matplotlib.pyplot as plt\n",
    "%matplotlib inline\n",
    "from math import pi"
   ]
  },
  {
   "cell_type": "markdown",
   "metadata": {},
   "source": [
    "### An example of FFT and IFFT operation\n",
    "\n",
    "As an illustration of how the SciPy FFT package is used, I'm creating set of evenly spaced discrete data points. There are totally $N=1000$ points sampled between the range 0 to $N$ (denoted by $x_i$ as follows). For simplicity, I use a consine function to generate the data points here. The $i$-th data point is given by:\n",
    "$$ y_i = \\cos \\left(\\frac{2\\pi x_i}{N} \\right)$$\n",
    "where $lambda$ = \\frac{2\\pi x_i}{N}$ here."
   ]
  },
  {
   "cell_type": "code",
   "execution_count": 2,
   "metadata": {
    "collapsed": true
   },
   "outputs": [],
   "source": [
    "N = 100 # spacing of data / resolution\n",
    "x = np.arange(0,N)\n",
    "y = np.cos(2*pi*x/N)"
   ]
  },
  {
   "cell_type": "markdown",
   "metadata": {},
   "source": [
    "Let's plot the data and see how it looks like:"
   ]
  },
  {
   "cell_type": "code",
   "execution_count": 3,
   "metadata": {},
   "outputs": [
    {
     "data": {
      "image/png": "[encoded data removed]",
      "text/plain": [
       "<matplotlib.figure.Figure at 0x7f82fd7f1208>"
      ]
     },
     "metadata": {},
     "output_type": "display_data"
    }
   ],
   "source": [
    "plt.scatter(x,y)\n",
    "plt.xlim((x.min(),x.max()))\n",
    "plt.xlabel('x')\n",
    "plt.ylabel('y')\n",
    "plt.tight_layout()\n",
    "plt.show()"
   ]
  },
  {
   "cell_type": "markdown",
   "metadata": {},
   "source": [
    "Let's trying doing a discrete FFT on $y$."
   ]
  },
  {
   "cell_type": "code",
   "execution_count": 4,
   "metadata": {
    "collapsed": true
   },
   "outputs": [],
   "source": [
    "cn = fft(y)"
   ]
  },
  {
   "cell_type": "markdown",
   "metadata": {},
   "source": [
    "$c_n$ is the output from FFT, i.e. fourier coefficients defined above. Referring to the SciPy documentation (```y``` below is ```cn``` in this notebook):\n",
    "\n",
    "> For N even, the elements y[1]...y[N/2−1] contain the positive-frequency terms, and the elements y[N/2]...y[N−1] contain the negative-frequency terms, in order of decreasingly negative frequency. For N odd, the elements y[1]...y[(N−1)/2] contain the positive- frequency terms, and the elements y[(N+1)/2]...y[N−1] contain the negative- frequency terms, in order of decreasingly negative frequency.\n",
    "\n",
    "In the example I show here, $\\cos \\left(\\frac{2\\pi x_i}{N} \\right)$ is an even function. I would expect the positive and negative frequency terms corresponding to the same frequency have the same magnitude. Let's check if that's the case."
   ]
  },
  {
   "cell_type": "code",
   "execution_count": 5,
   "metadata": {
    "collapsed": true
   },
   "outputs": [],
   "source": [
    "T = 1./x.size\n",
    "xf = np.hstack(( np.arange(0,N//2), np.arange(-N//2,0) ))"
   ]
  },
  {
   "cell_type": "markdown",
   "metadata": {},
   "source": [
    "Confirm that $xf$ and $cn$ are of the same size:"
   ]
  },
  {
   "cell_type": "code",
   "execution_count": 6,
   "metadata": {},
   "outputs": [
    {
     "name": "stdout",
     "output_type": "stream",
     "text": [
      "xf.size= 100\n",
      "cn.size= 100\n"
     ]
    }
   ],
   "source": [
    "print('xf.size=',xf.size)\n",
    "print('cn.size=',cn.size)"
   ]
  },
  {
   "cell_type": "markdown",
   "metadata": {},
   "source": [
    "Let's print out the coefficient and see how they look like:"
   ]
  },
  {
   "cell_type": "code",
   "execution_count": 7,
   "metadata": {},
   "outputs": [
    {
     "name": "stdout",
     "output_type": "stream",
     "text": [
      "[ -2.33146835e-15 +0.00000000e+00j   5.00000000e+01 -6.80047730e-15j\n",
      "   5.75160293e-16 -2.45929817e-15j   2.56533007e-15 -5.69044597e-16j\n",
      "   1.17745885e-16 +2.78004314e-15j  -1.18692392e-15 -2.10361300e-15j\n",
      "   2.95612411e-17 +1.16984114e-15j   1.08261127e-15 +2.82636527e-15j\n",
      "  -1.03792696e-15 +7.06374423e-17j   5.55492036e-16 -1.20217872e-15j]\n"
     ]
    }
   ],
   "source": [
    "print(cn[:10])"
   ]
  },
  {
   "cell_type": "markdown",
   "metadata": {},
   "source": [
    "Since cos is an even function, the imaginary part of $c_n$ are zero. Only the real part of $c_1$ is non-vanishing (as expected). Let's plot $\\|c_n\\|$ in a bar graph, where $n \\in [-10,10]$:"
   ]
  },
  {
   "cell_type": "code",
   "execution_count": 8,
   "metadata": {
    "scrolled": true
   },
   "outputs": [
    {
     "data": {
      "image/png": "[encoded data removed]",
      "text/plain": [
       "<matplotlib.figure.Figure at 0x7f8480b6fc18>"
      ]
     },
     "metadata": {},
     "output_type": "display_data"
    }
   ],
   "source": [
    "plt.bar(xf,2.0/x.size * np.abs(cn)) # Take the absolute value. \n",
    "# In this case, cosine is an even function, so this is equivalent to the real value.\n",
    "plt.xticks(xf)\n",
    "plt.xlim((-10,10))\n",
    "plt.title('Fourier spectrum')\n",
    "plt.xlabel('wavenumber (k)');\n",
    "plt.ylabel('magnitude of fourier coefficients');\n",
    "plt.show()"
   ]
  },
  {
   "cell_type": "markdown",
   "metadata": {},
   "source": [
    "#### Inverse Fourier transform\n",
    "\n",
    "To recover the series from the fourier coefficients, you can use the inverse fourier transform function (```ifft```) as demonstrated below."
   ]
  },
  {
   "cell_type": "code",
   "execution_count": 15,
   "metadata": {},
   "outputs": [
    {
     "name": "stderr",
     "output_type": "stream",
     "text": [
      "/home/csyhuang/anaconda3/lib/python3.6/site-packages/numpy/core/numeric.py:583: ComplexWarning: Casting complex values to real discards the imaginary part\n",
      "  return array(a, dtype, copy=False, order=order, subok=True)\n"
     ]
    },
    {
     "data": {
      "image/png": "[encoded data removed]",
      "text/plain": [
       "<matplotlib.figure.Figure at 0x7f82fc474c18>"
      ]
     },
     "metadata": {},
     "output_type": "display_data"
    }
   ],
   "source": [
    "y_recovered = ifft(cn)\n",
    "\n",
    "plt.scatter(x,y_recovered)\n",
    "plt.xlim((x.min(),x.max()))\n",
    "plt.xlabel('x')\n",
    "plt.ylabel('y_recovered')\n",
    "plt.tight_layout()\n",
    "plt.show()"
   ]
  },
  {
   "cell_type": "markdown",
   "metadata": {},
   "source": [
    "### Exercise for Claire\n",
    "\n",
    "For each of the following functions, \n",
    "- describe how you would expect the fourier spectrum ($c_n$) to look like;\n",
    "- use the results from FFT to confirm your answer; and lastly,\n",
    "- recover the original time series using the fourier coefficients obtained from FFT, and plot it out.  \n",
    "\n",
    "**Bonus question**: Can you initialize a array ```cn4``` such that IFFT would recover $\\sin\\lambda$?  \n",
    "Hint: In python, ```j``` denotes the imaginary unit. If I want to construct $\\cos\\lambda$ from fourier coefficients ```cn_x```, I would initialize ```cn_x``` by:\n",
    "```\n",
    "cn_x = np.zeros((N),'complex')\n",
    "cn_x[1] = 1.+0.j\n",
    "cn_x[-1] = 1.+0.j\n",
    "y_recovered = ifft(cn)\n",
    "```"
   ]
  },
  {
   "cell_type": "markdown",
   "metadata": {},
   "source": [
    "#### Question 1\n",
    "$f(\\lambda) = 1 + 2\\cos \\lambda - 3\\sin \\lambda$.  \n",
    "How would the spectrum look like? Which coefficients $\\|c_n\\|$ are non-trivial? What are their expected values?  \n",
    "(Double click to type in your answer, and then press Shift+return)"
   ]
  },
  {
   "cell_type": "code",
   "execution_count": 9,
   "metadata": {
    "collapsed": true
   },
   "outputs": [],
   "source": [
    "# Type your code here for Question 1\n",
    "N1 = 100 # spacing of data / resolution\n",
    "x1 = np.arange(0,N)\n",
    "y1 = None # replace None with your code\n",
    "\n",
    "# Write your code for fourier transform and plotting the graphs"
   ]
  },
  {
   "cell_type": "markdown",
   "metadata": {},
   "source": [
    "#### Question 2\n",
    "$f(\\lambda) = \\cos 2\\lambda - 5\\sin 3\\lambda$.  \n",
    "How would the spectrum look like? Which coefficients $\\|c_n\\|$ are non-trivial? What are their expected values?   \n",
    "(Double click to type in your answer, and then press Shift+return)"
   ]
  },
  {
   "cell_type": "code",
   "execution_count": 10,
   "metadata": {
    "collapsed": true
   },
   "outputs": [],
   "source": [
    "# Type your code here for Question 2\n"
   ]
  },
  {
   "cell_type": "markdown",
   "metadata": {},
   "source": [
    "#### Question 3\n",
    "$f(\\lambda) = 1 + 2\\cos \\lambda - 3\\sin \\lambda$.  \n",
    "How would the spectrum look like? For Question 3, it is good enough to give qualitative description.  \n",
    "(Double click to type in your answer, and then press Shift+return)"
   ]
  },
  {
   "cell_type": "code",
   "execution_count": 11,
   "metadata": {
    "collapsed": true
   },
   "outputs": [],
   "source": [
    "# Type your code here for Question 3\n"
   ]
  },
  {
   "cell_type": "markdown",
   "metadata": {},
   "source": [
    "**Bonus question**: Can you initialize a array ```cn4``` such that IFFT would recover $\\sin\\lambda$?  \n",
    "Hint: If I want to construct $\\cos\\lambda$ from fourier coefficients ```cn_x```, I would initialize ```cn_x``` by:\n",
    "```\n",
    "cn_x = np.zeros((N),'complex')\n",
    "cn_x[1] = 1.+0.j\n",
    "cn_x[-1] = 1.+0.j\n",
    "y_recovered = ifft(cn)\n",
    "```"
   ]
  },
  {
   "cell_type": "code",
   "execution_count": null,
   "metadata": {
    "collapsed": true
   },
   "outputs": [],
   "source": [
    "# Type your code here for the bonus question\n"
   ]
  }
 ],
 "metadata": {
  "kernelspec": {
   "display_name": "Python 3",
   "language": "python",
   "name": "python3"
  },
  "language_info": {
   "codemirror_mode": {
    "name": "ipython",
    "version": 3
   },
   "file_extension": ".py",
   "mimetype": "text/x-python",
   "name": "python",
   "nbconvert_exporter": "python",
   "pygments_lexer": "ipython3",
   "version": "3.6.3"
  }
 },
 "nbformat": 4,
 "nbformat_minor": 2
}
