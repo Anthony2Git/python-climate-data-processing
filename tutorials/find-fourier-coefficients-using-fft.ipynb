{
 "cells": [
  {
   "cell_type": "markdown",
   "metadata": {},
   "source": [
    "Version 2, edited by Clare on Feb 20, 2018 (14:10 CT)"
   ]
  },
  {
   "cell_type": "markdown",
   "metadata": {},
   "source": [
    "# Compute fourier coefficients using FFT \n",
    "\n",
    "## The fourier coefficients\n",
    "\n",
    "A periodic function $Z(\\lambda)$ with a period of $2\\pi$ can be expressed as a Fourier series:\n",
    "$$Z(\\lambda) = \\frac{1}{2}a_0 + \\sum_{k=1}^{\\infty} (a_k\\cos(k\\lambda) + b_k\\sin(k\\lambda)).$$\n",
    "Its complex version is\n",
    "$$Z(\\lambda) = \\sum_{k=-\\infty}^{\\infty} c_k e^{-ik\\lambda}$$\n",
    "where $c_k = a_k - i b_k$ and $c_{-k} = a_k + i b_k$.\n",
    "\n",
    "The Fourier coefficient can be computed using the orthogoal relationship between trigonometric functions. In terms of the complex coefficient $c_k$:\n",
    "$$ c_k = \\frac{1}{2 \\pi} \\int^{2\\pi}_{0} Z(\\lambda) e^{-ik\\lambda} d\\lambda. $$\n",
    "\n",
    "In climate science, the physical fields often exhibit periodicity in space and time. For example, the [Milankovitch cycles](https://en.wikipedia.org/wiki/Milankovitch_cycles) explain partially variation of the Earth's climate observed at certain time scales (e.g. periodicity in eccentricity, axial tilt, and precession of the Earth's orbit). By computing the coefficients $c_k$, one got to know the magnitude of the component in the field associated with the period $\\frac{2\\pi}{k}$.\n",
    "\n",
    "Recall that the definitions of Fourier transform and inverse Fourier transform are\n",
    "$$\\hat{Z}(k) = \\int^\\infty_{-\\infty} Z(\\lambda) e^{-ik\\lambda} d\\lambda$$\n",
    "$$Z(\\lambda) = \\frac{1}{2\\pi}\\int^\\infty_{-\\infty} \\hat{Z}(k) e^{ik\\lambda} dk.$$\n",
    "\n",
    "Relating $\\hat{Z}(k)$ and $c_k$ gives\n",
    "$$\\hat{Z}(k) = 2\\pi c_k = 2\\pi (a_k - i b_k)$$\n",
    "\n",
    "Numerically, the fourier coefficients $c_k$ can be obtained using fast Fourier Transform (FFT). Given the data $Z(\\lambda)$ on $N$ discrete points evenly spaced between 0 to $2\\pi$ with spacing $T = 2\\pi/N$, to evaluate $\\hat{Z}(k)$ numerically, since data only exists on the discrete grid points,\n",
    "$$ \\hat{Z}(k) \\approx \\sum^{N-1}_{n=0} Z(nT) e^{-iknT} = \\sum^{N-1}_{n=0} Z(nT) e^{-i\\frac{2\\pi k n}{N}}.$$\n",
    "\n",
    "$\\hat{Z}(k)$, and thus $c_k$, can be computed using the FFT function in the SciPy package."
   ]
  },
  {
   "cell_type": "markdown",
   "metadata": {},
   "source": [
    "### Loading modules for fast fourier transform (FFT) and inverse fast fourier transform (IFFT) from SciPy package"
   ]
  },
  {
   "cell_type": "code",
   "execution_count": 2,
   "metadata": {
    "collapsed": true
   },
   "outputs": [],
   "source": [
    "from scipy.fftpack import fft, ifft # Load fast fourier transform packages from scipy\n",
    "import numpy as np\n",
    "import matplotlib.pyplot as plt\n",
    "%matplotlib inline\n",
    "from math import pi"
   ]
  },
  {
   "cell_type": "markdown",
   "metadata": {},
   "source": [
    "### An example of FFT and IFFT operation\n",
    "\n",
    "As an illustration of how the SciPy FFT package is used, I'm creating set of N evenly spaced discrete data points (and naming it ```x```). In the example below, there are totally $N=100$ points sampled between the range 0 to $2\\pi$. For simplicity, I use a consine function to generate the data points here. The $n$-th data point is given by:\n",
    "$$ y_n = \\cos x_n = \\cos\\left(\\frac{2\\pi n}{N} \\right).$$"
   ]
  },
  {
   "cell_type": "code",
   "execution_count": 3,
   "metadata": {
    "collapsed": true
   },
   "outputs": [],
   "source": [
    "N = 100 # spacing of data / resolution\n",
    "x = 2*pi*np.arange(N)/N\n",
    "y = np.cos(x)"
   ]
  },
  {
   "cell_type": "markdown",
   "metadata": {},
   "source": [
    "Let's plot the data and see how it looks like:"
   ]
  },
  {
   "cell_type": "code",
   "execution_count": 4,
   "metadata": {
    "scrolled": true
   },
   "outputs": [
    {
     "data": {
      "image/png": "[encoded data removed]",
      "text/plain": [
       "<matplotlib.figure.Figure at 0x7fa18cdc78d0>"
      ]
     },
     "metadata": {},
     "output_type": "display_data"
    }
   ],
   "source": [
    "plt.scatter(x,y)\n",
    "plt.xlim((x.min(),x.max()))\n",
    "plt.xlabel('x')\n",
    "plt.ylabel('y')\n",
    "plt.tight_layout()\n",
    "plt.show()"
   ]
  },
  {
   "cell_type": "markdown",
   "metadata": {},
   "source": [
    "We know that $$y = \\cos(\\lambda)$$ can be written as $$y = \\frac{1}{2} e^{-i\\lambda} + \\frac{1}{2} e^{i\\lambda}.$$ The coefficients $$c_{-1} = c_{1} = \\frac{1}{2}$$ while other coefficients are zeros.\n",
    "\n",
    "\n",
    "Let's trying doing a discrete FFT on $y$. Note that the output of ```fft(y)``` is in fact $N c_k$ given $c_k$ defined above. A factor of $\\frac{1}{N}$ is multipled here to recover $c_k$."
   ]
  },
  {
   "cell_type": "code",
   "execution_count": 6,
   "metadata": {},
   "outputs": [
    {
     "name": "stdout",
     "output_type": "stream",
     "text": [
      "100\n"
     ]
    }
   ],
   "source": [
    "ck = 1/N * fft(y)\n",
    "print(ck.size)"
   ]
  },
  {
   "cell_type": "markdown",
   "metadata": {},
   "source": [
    "What do the 100 elements in ```ck``` represent? Referring to the SciPy documentation (```y``` in the documentation below is ```N*ck``` in this notebook):\n",
    "\n",
    "> For N even, the elements y[1]...y[N/2−1] contain the positive-frequency terms, and the elements y[N/2]...y[N−1] contain the negative-frequency terms, in order of decreasingly negative frequency. For N odd, the elements y[1]...y[(N−1)/2] contain the positive- frequency terms, and the elements y[(N+1)/2]...y[N−1] contain the negative- frequency terms, in order of decreasingly negative frequency.\n",
    "\n",
    "In the example I show here, $\\cos \\left(\\frac{2\\pi n}{N} \\right)$ is an even function. We would expect the positive and negative frequency terms corresponding to the same frequency have the same magnitude. Let's check if that's the case."
   ]
  },
  {
   "cell_type": "code",
   "execution_count": 7,
   "metadata": {
    "collapsed": true
   },
   "outputs": [],
   "source": [
    "T = 1./x.size\n",
    "xf = np.hstack(( np.arange(0,N//2), np.arange(-N//2,0) ))"
   ]
  },
  {
   "cell_type": "markdown",
   "metadata": {},
   "source": [
    "Confirm that ```xf``` and ```ck``` are of the same size:"
   ]
  },
  {
   "cell_type": "code",
   "execution_count": 8,
   "metadata": {},
   "outputs": [
    {
     "name": "stdout",
     "output_type": "stream",
     "text": [
      "xf.size= 100\n",
      "ck.size= 100\n"
     ]
    }
   ],
   "source": [
    "print('xf.size=',xf.size)\n",
    "print('ck.size=',ck.size)"
   ]
  },
  {
   "cell_type": "markdown",
   "metadata": {},
   "source": [
    "Let's print out the coefficient $c_k$ and see how they look like:"
   ]
  },
  {
   "cell_type": "code",
   "execution_count": 9,
   "metadata": {},
   "outputs": [
    {
     "name": "stdout",
     "output_type": "stream",
     "text": [
      "[ -2.33146835e-17 +0.00000000e+00j   5.00000000e-01 -6.80047730e-17j\n",
      "   5.75160293e-18 -2.45929817e-17j   2.56533007e-17 -5.69044597e-18j\n",
      "   1.17745885e-18 +2.78004314e-17j  -1.18692392e-17 -2.10361300e-17j\n",
      "   2.95612411e-19 +1.16984114e-17j   1.08261127e-17 +2.82636527e-17j\n",
      "  -1.03792696e-17 +7.06374423e-19j   5.55492036e-18 -1.20217872e-17j]\n"
     ]
    }
   ],
   "source": [
    "print(ck[:10])"
   ]
  },
  {
   "cell_type": "markdown",
   "metadata": {},
   "source": [
    "Since cos is an even function, the imaginary part of $c_k$ are zero. Only the real part of $c_1$ is non-vanishing (as expected). Let's plot $\\|c_k\\|$ in a bar graph, where $n \\in [-10,10]$:"
   ]
  },
  {
   "cell_type": "code",
   "execution_count": 10,
   "metadata": {
    "scrolled": true
   },
   "outputs": [
    {
     "data": {
      "image/png": "[encoded data removed]",
      "text/plain": [
       "<matplotlib.figure.Figure at 0x7fa18c6e6588>"
      ]
     },
     "metadata": {},
     "output_type": "display_data"
    }
   ],
   "source": [
    "plt.bar(xf, np.abs(ck)) # Take the absolute value. \n",
    "# In this case, cosine is an even function, so this is equivalent to the real value.\n",
    "plt.xticks(xf)\n",
    "plt.xlim((-10,10))\n",
    "plt.title('Fourier spectrum')\n",
    "plt.xlabel('wavenumber (k)');\n",
    "plt.ylabel('magnitude of fourier coefficients');\n",
    "plt.show()"
   ]
  },
  {
   "cell_type": "markdown",
   "metadata": {},
   "source": [
    "#### Inverse Fourier transform\n",
    "\n",
    "To recover the series from the fourier coefficients, you can use the inverse fourier transform function (```ifft```) as demonstrated below. Note that if ```y = fft(x)```, then ```x = ifft(y)```."
   ]
  },
  {
   "cell_type": "code",
   "execution_count": 11,
   "metadata": {},
   "outputs": [
    {
     "name": "stderr",
     "output_type": "stream",
     "text": [
      "/home/csyhuang/anaconda3/lib/python3.6/site-packages/numpy/core/numeric.py:583: ComplexWarning: Casting complex values to real discards the imaginary part\n",
      "  return array(a, dtype, copy=False, order=order, subok=True)\n"
     ]
    },
    {
     "data": {
      "image/png": "[encoded data removed]",
      "text/plain": [
       "<matplotlib.figure.Figure at 0x7fa18c494550>"
      ]
     },
     "metadata": {},
     "output_type": "display_data"
    }
   ],
   "source": [
    "y_recovered = ifft(N * ck)\n",
    "\n",
    "plt.scatter(x,y_recovered)\n",
    "plt.xlim((x.min(),x.max()))\n",
    "plt.xlabel('x')\n",
    "plt.ylabel('y_recovered')\n",
    "plt.tight_layout()\n",
    "plt.show()"
   ]
  },
  {
   "cell_type": "markdown",
   "metadata": {},
   "source": [
    "### Exercise for Claire\n",
    "\n",
    "For each of the following functions, \n",
    "- describe how you would expect the fourier spectrum ($c_k$) to look like;\n",
    "- use the results from FFT to confirm your answer; and lastly,\n",
    "- recover the original time series using the fourier coefficients obtained from FFT, and plot it out.  \n",
    "\n",
    "**Bonus question**: Can you initialize a array ```ck_4``` such that IFFT would recover $\\sin\\lambda$?  \n",
    "Hint: In python, ```j``` denotes the imaginary unit. If I want to construct $\\cos\\lambda$ from fourier coefficients ```ck_x```, I would initialize ```ck_x``` by:\n",
    "```\n",
    "ck_x = np.zeros((N),'complex')\n",
    "ck_x[1] = 0.5+0.j\n",
    "ck_x[-1] = 0.5+0.j\n",
    "y_recovered = ifft(N * ck)\n",
    "```"
   ]
  },
  {
   "cell_type": "markdown",
   "metadata": {},
   "source": [
    "#### Question 1\n",
    "$f(\\lambda) = 1 + 2\\cos \\lambda - 3\\sin \\lambda$.  \n",
    "How would the spectrum look like? Which coefficients $\\|c_k\\|$ are non-trivial? What are their expected values?   \n",
    "(Double click to type in your answer, and then press Shift+return)"
   ]
  },
  {
   "cell_type": "code",
   "execution_count": 34,
   "metadata": {
    "collapsed": true
   },
   "outputs": [],
   "source": [
    "# Type your code here for Question 1\n",
    "N1 = 100 # spacing of data / resolution\n",
    "x1 = np.arange(0,N)\n",
    "y1 = None # replace None with your code\n",
    "\n",
    "# Write your code for fourier transform and plotting the graphs"
   ]
  },
  {
   "cell_type": "markdown",
   "metadata": {},
   "source": [
    "#### Question 2\n",
    "$f(\\lambda) = \\cos 2\\lambda - 5\\sin 3\\lambda$.  \n",
    "How would the spectrum look like? Which coefficients $\\|c_k\\|$ are non-trivial? What are their expected values?   \n",
    "(Double click to type in your answer, and then press Shift+return)"
   ]
  },
  {
   "cell_type": "code",
   "execution_count": 35,
   "metadata": {
    "collapsed": true
   },
   "outputs": [],
   "source": [
    "# Type your code here for Question 2\n"
   ]
  },
  {
   "cell_type": "markdown",
   "metadata": {},
   "source": [
    "#### Question 3\n",
    "$f(\\lambda) = 1 + 2\\cos \\lambda - 3\\sin \\lambda$.  \n",
    "How would the spectrum look like? For Question 3, it is good enough to give qualitative description.  \n",
    "(Double click to type in your answer, and then press Shift+return)"
   ]
  },
  {
   "cell_type": "code",
   "execution_count": 36,
   "metadata": {
    "collapsed": true
   },
   "outputs": [],
   "source": [
    "# Type your code here for Question 3\n"
   ]
  },
  {
   "cell_type": "markdown",
   "metadata": {},
   "source": [
    "**Bonus question**: Can you initialize a array ```ck_4``` such that IFFT would recover $\\sin\\lambda$?  \n",
    "Hint: In python, ```j``` denotes the imaginary unit. If I want to construct $\\cos\\lambda$ from fourier coefficients ```ck_x```, I would initialize ```ck_x``` by:\n",
    "```\n",
    "ck_x = np.zeros((N),'complex')\n",
    "ck_x[1] = 0.5+0.j\n",
    "ck_x[-1] = 0.5+0.j\n",
    "y_recovered = ifft(N * ck)\n",
    "```"
   ]
  },
  {
   "cell_type": "code",
   "execution_count": 38,
   "metadata": {
    "collapsed": true
   },
   "outputs": [],
   "source": [
    "# Type your code here for the bonus question\n",
    "\n"
   ]
  }
 ],
 "metadata": {
  "kernelspec": {
   "display_name": "Python 3",
   "language": "python",
   "name": "python3"
  },
  "language_info": {
   "codemirror_mode": {
    "name": "ipython",
    "version": 3
   },
   "file_extension": ".py",
   "mimetype": "text/x-python",
   "name": "python",
   "nbconvert_exporter": "python",
   "pygments_lexer": "ipython3",
   "version": "3.6.3"
  }
 },
 "nbformat": 4,
 "nbformat_minor": 2
}
